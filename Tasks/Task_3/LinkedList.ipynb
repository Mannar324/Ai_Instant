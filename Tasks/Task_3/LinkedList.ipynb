{
 "cells": [
  {
   "cell_type": "code",
   "execution_count": 12,
   "id": "718ce5ee",
   "metadata": {},
   "outputs": [
    {
     "name": "stdout",
     "output_type": "stream",
     "text": [
      "Enter 5 numbers:\n",
      "1 -> 2 -> 3 -> 4 -> None\n",
      "**********\n",
      "1 -> 2 -> 3 -> None\n",
      "**********\n"
     ]
    }
   ],
   "source": [
    "# Class Node\n",
    "class Node:\n",
    "    def __init__(self, value=None):\n",
    "        self.value = value\n",
    "        self.next_node = None\n",
    "\n",
    "class LinkedList:\n",
    "    def __init__(self):\n",
    "        self.head = None\n",
    "        self.elements = []\n",
    "\n",
    "    def IsEmpty(self):\n",
    "        return self.head is None\n",
    "\n",
    "    def IsFull(self):\n",
    "        return self.head is not None\n",
    "\n",
    "    def append(self, value):\n",
    "        new_node = Node(value)\n",
    "        if self.IsEmpty():\n",
    "            self.head = new_node\n",
    "        else:\n",
    "            curr_node = self.head\n",
    "            while curr_node.next_node:\n",
    "                curr_node = curr_node.next_node\n",
    "            curr_node.next_node = new_node\n",
    "\n",
    "    def Display(self):\n",
    "        if self.IsEmpty():\n",
    "            print(\"Linked List is empty\")\n",
    "        else:\n",
    "            curr_node = self.head\n",
    "            while curr_node:\n",
    "                self.elements.append(curr_node.value)\n",
    "                curr_node = curr_node.next_node\n",
    "            unique_elements = set(self.elements)    \n",
    "            for element in unique_elements:\n",
    "                print(element, end=\" -> \")\n",
    "            print(\"None\")    \n",
    "\n",
    "    def Delete(self, element):\n",
    "        if self.IsFull():\n",
    "            curr_node = self.head\n",
    "            prev_node = None\n",
    "            while curr_node:\n",
    "                if curr_node.value == element:\n",
    "                    self.elements.remove(element)\n",
    "                    break\n",
    "                prev_node = curr_node\n",
    "                curr_node = curr_node.next_node\n",
    "            if prev_node:\n",
    "                prev_node.next_node = curr_node.next_node\n",
    "            else:\n",
    "                self.head = curr_node.next_node\n",
    "\n",
    "\n",
    "print(\"Enter 5 numbers:\")\n",
    "# push the elements\n",
    "linked = LinkedList()\n",
    "linked.append(1)\n",
    "linked.append(2)\n",
    "linked.append(3)\n",
    "linked.append(4)\n",
    "linked.Display()\n",
    "print(\"*\" * 10)\n",
    "linked.Delete(4)\n",
    "linked.Display()\n",
    "print(\"*\" * 10)\n"
   ]
  },
  {
   "cell_type": "code",
   "execution_count": null,
   "id": "61b06b1a",
   "metadata": {},
   "outputs": [],
   "source": []
  }
 ],
 "metadata": {
  "kernelspec": {
   "display_name": "Python 3 (ipykernel)",
   "language": "python",
   "name": "python3"
  },
  "language_info": {
   "codemirror_mode": {
    "name": "ipython",
    "version": 3
   },
   "file_extension": ".py",
   "mimetype": "text/x-python",
   "name": "python",
   "nbconvert_exporter": "python",
   "pygments_lexer": "ipython3",
   "version": "3.9.12"
  }
 },
 "nbformat": 4,
 "nbformat_minor": 5
}
