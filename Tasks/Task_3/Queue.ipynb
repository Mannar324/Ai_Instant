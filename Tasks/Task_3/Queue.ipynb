{
 "cells": [
  {
   "cell_type": "code",
   "execution_count": 3,
   "id": "10a47b9f",
   "metadata": {},
   "outputs": [
    {
     "name": "stdout",
     "output_type": "stream",
     "text": [
      "Enter 5 numbers :\n",
      "50\n",
      "40\n",
      "30\n",
      "20\n",
      "10\n",
      "**********\n",
      "50\n",
      "**********\n",
      "40\n",
      "**********\n",
      "30\n",
      "**********\n",
      "20\n",
      "**********\n",
      "10\n"
     ]
    }
   ],
   "source": [
    "Queue=[]\n",
    "#push elements\n",
    "#First in First Out\n",
    "print(\"Enter 5 numbers :\")\n",
    "#push the elements\n",
    "for _ in range(5):\n",
    "    value=int(input())\n",
    "    Queue.append(value)\n",
    "# pop elements\n",
    "for _ in range(len(Queue)): \n",
    "    print(\"*\"*10)   \n",
    "    print(Queue.pop(0))\n",
    "   \n",
    "\n",
    "   \n"
   ]
  },
  {
   "cell_type": "code",
   "execution_count": null,
   "id": "ac08ce6a",
   "metadata": {},
   "outputs": [],
   "source": []
  }
 ],
 "metadata": {
  "kernelspec": {
   "display_name": "Python 3 (ipykernel)",
   "language": "python",
   "name": "python3"
  },
  "language_info": {
   "codemirror_mode": {
    "name": "ipython",
    "version": 3
   },
   "file_extension": ".py",
   "mimetype": "text/x-python",
   "name": "python",
   "nbconvert_exporter": "python",
   "pygments_lexer": "ipython3",
   "version": "3.9.12"
  }
 },
 "nbformat": 4,
 "nbformat_minor": 5
}
