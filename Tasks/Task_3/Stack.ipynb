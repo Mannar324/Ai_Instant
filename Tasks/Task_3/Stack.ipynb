{
 "cells": [
  {
   "cell_type": "code",
   "execution_count": 4,
   "id": "4ae6c677",
   "metadata": {},
   "outputs": [
    {
     "name": "stdout",
     "output_type": "stream",
     "text": [
      "Enter 5 numbers :\n",
      "50\n",
      "40\n",
      "30\n",
      "20\n",
      "10\n",
      "**********\n",
      "10\n"
     ]
    }
   ],
   "source": [
    "stack=[]\n",
    "#Last in First Out\n",
    "print(\"Enter 5 numbers :\")\n",
    "#push the elements\n",
    "for _ in range(5):\n",
    "    value=int(input())\n",
    "    stack.append(value)\n",
    "# pop elements\n",
    "# for _ in range(len(stack)):   \n",
    "#     print(stack.pop())\n",
    "print(\"*\"*10)    \n",
    "# top of stack\n",
    "print(stack.pop())    \n",
    "\n"
   ]
  },
  {
   "cell_type": "code",
   "execution_count": null,
   "id": "6b03ce43",
   "metadata": {},
   "outputs": [],
   "source": []
  }
 ],
 "metadata": {
  "kernelspec": {
   "display_name": "Python 3 (ipykernel)",
   "language": "python",
   "name": "python3"
  },
  "language_info": {
   "codemirror_mode": {
    "name": "ipython",
    "version": 3
   },
   "file_extension": ".py",
   "mimetype": "text/x-python",
   "name": "python",
   "nbconvert_exporter": "python",
   "pygments_lexer": "ipython3",
   "version": "3.9.12"
  }
 },
 "nbformat": 4,
 "nbformat_minor": 5
}
