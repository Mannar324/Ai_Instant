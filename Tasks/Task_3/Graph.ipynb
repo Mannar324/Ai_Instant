{
 "cells": [
  {
   "cell_type": "markdown",
   "id": "00e7049e",
   "metadata": {},
   "source": [
    "# Represent the Graph using adjacency matrix"
   ]
  },
  {
   "cell_type": "code",
   "execution_count": 14,
   "id": "aee4b5a3",
   "metadata": {},
   "outputs": [
    {
     "name": "stdout",
     "output_type": "stream",
     "text": [
      "  [0, 1, 0, 0, 1]\n",
      "  [0, 0, 1, 1, 1]\n",
      "  [0, 0, 0, 1, 0]\n",
      "  [0, 0, 0, 0, 1]\n",
      "  [0, 0, 0, 0, 0]\n"
     ]
    }
   ],
   "source": [
    "class Graph:\n",
    "    def __init__(self,vertices):\n",
    "        self.adj_mat=[[0]*vertices for _ in range(vertices)]\n",
    "    def add_edge(self,start,end):\n",
    "        #graph is directed\n",
    "            self.adj_mat[start][end]=1\n",
    "            #self.adj_mat[end][start]=1\n",
    "    def Display(self):\n",
    "        for row in self.adj_mat:\n",
    "            print(\" \",row)\n",
    "graph=Graph(5)\n",
    "graph.add_edge(0, 1)\n",
    "graph.add_edge(0, 4)\n",
    "graph.add_edge(1, 2)\n",
    "graph.add_edge(1, 3)\n",
    "graph.add_edge(1, 4)\n",
    "graph.add_edge(2, 3)\n",
    "graph.add_edge(3, 4)\n",
    "graph.Display()"
   ]
  },
  {
   "cell_type": "markdown",
   "id": "e3466349",
   "metadata": {},
   "source": [
    "# Represent the Graph using adjacency List¶"
   ]
  },
  {
   "cell_type": "code",
   "execution_count": 15,
   "id": "c358a016",
   "metadata": {},
   "outputs": [
    {
     "name": "stdout",
     "output_type": "stream",
     "text": [
      "0 : 1, 4\n",
      "1 : 2, 3, 4\n",
      "2 : 3\n",
      "3 : 4\n"
     ]
    }
   ],
   "source": [
    "class Graph:\n",
    "    def __init__(self,vertices):\n",
    "        self.adj_list=dict()\n",
    "        #directed graph\n",
    "    def add_edge(self,start,end):\n",
    "        if start in self.adj_list:\n",
    "            self.adj_list[start].append(end)\n",
    "        else:\n",
    "            self.adj_list[start]=[end]\n",
    "        \n",
    "    def Display(self):\n",
    "        for start,end in self.adj_list.items():\n",
    "            print(f\"{start} : {', '.join(map(str,end))}\")\n",
    "graph=Graph(5)\n",
    "graph.add_edge(0, 1)\n",
    "graph.add_edge(0, 4)\n",
    "graph.add_edge(1, 2)\n",
    "graph.add_edge(1, 3)\n",
    "graph.add_edge(1, 4)\n",
    "graph.add_edge(2, 3)\n",
    "graph.add_edge(3, 4)\n",
    "graph.Display()            "
   ]
  },
  {
   "cell_type": "code",
   "execution_count": null,
   "id": "d7d62a0e",
   "metadata": {},
   "outputs": [],
   "source": []
  }
 ],
 "metadata": {
  "kernelspec": {
   "display_name": "Python 3 (ipykernel)",
   "language": "python",
   "name": "python3"
  },
  "language_info": {
   "codemirror_mode": {
    "name": "ipython",
    "version": 3
   },
   "file_extension": ".py",
   "mimetype": "text/x-python",
   "name": "python",
   "nbconvert_exporter": "python",
   "pygments_lexer": "ipython3",
   "version": "3.9.12"
  }
 },
 "nbformat": 4,
 "nbformat_minor": 5
}
