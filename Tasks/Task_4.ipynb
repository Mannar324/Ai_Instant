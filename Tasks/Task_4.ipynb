{
 "cells": [
  {
   "cell_type": "markdown",
   "id": "909ad0db",
   "metadata": {},
   "source": [
    "# Spaghetti Code Examples:"
   ]
  },
  {
   "cell_type": "markdown",
   "id": "7428261d",
   "metadata": {},
   "source": [
    "1-Factorial"
   ]
  },
  {
   "cell_type": "code",
   "execution_count": 15,
   "id": "98c0d6d8",
   "metadata": {},
   "outputs": [
    {
     "name": "stdout",
     "output_type": "stream",
     "text": [
      "0 : 1, 4\n",
      "1 : 2, 3, 4\n",
      "2 : 3\n",
      "3 : 4\n"
     ]
    }
   ],
   "source": [
    "def factorial(n):\n",
    "    result = 1\n",
    "    while n > 0:\n",
    "        result *= n\n",
    "        n -= 1\n",
    "    return result\n",
    "\n",
    "def main():\n",
    "    num = int(input(\"Enter a number: \"))\n",
    "    result = factorial(num)\n",
    "    print(f\"The factorial of {num} is: {result}\")\n",
    "\n",
    "if __name__ == \"__main__\":\n",
    "    main()\n"
   ]
  },
  {
   "cell_type": "markdown",
   "id": "e6e9901a",
   "metadata": {},
   "source": [
    "2-Sum of squares"
   ]
  },
  {
   "cell_type": "code",
   "execution_count": 17,
   "id": "56616a7c",
   "metadata": {},
   "outputs": [
    {
     "name": "stdout",
     "output_type": "stream",
     "text": [
      "The sum of squares of even numbers is: 220\n"
     ]
    }
   ],
   "source": [
    "def sum_of_squares(numbers):\n",
    "    result = 0\n",
    "    for num in numbers:\n",
    "        if num % 2 == 0:\n",
    "            result += num ** 2\n",
    "    return result\n",
    "\n",
    "if __name__ == \"__main__\":\n",
    "    input_numbers = [1, 2, 3, 4, 5, 6, 7, 8, 9, 10]\n",
    "    result = sum_of_squares(input_numbers)\n",
    "    print(f\"The sum of squares of even numbers is: {result}\")\n"
   ]
  },
  {
   "cell_type": "markdown",
   "id": "abd8fbe6",
   "metadata": {},
   "source": [
    "3-Avarge of positive numbers"
   ]
  },
  {
   "cell_type": "code",
   "execution_count": 16,
   "id": "be7ff6cf",
   "metadata": {},
   "outputs": [
    {
     "name": "stdout",
     "output_type": "stream",
     "text": [
      "The average of positive numbers is: 4.8\n"
     ]
    }
   ],
   "source": [
    "def average_positive(numbers):\n",
    "    count = 0\n",
    "    total = 0\n",
    "    for num in numbers:\n",
    "        if num > 0:\n",
    "            total += num\n",
    "            count += 1\n",
    "    if count == 0:\n",
    "        return 0\n",
    "    return total / count\n",
    "\n",
    "if __name__ == \"__main__\":\n",
    "    input_numbers = [3, -1, 7, 2, -5, 8, 0, -2, 4]\n",
    "    result = average_positive(input_numbers)\n",
    "    print(f\"The average of positive numbers is: {result}\")\n"
   ]
  },
  {
   "cell_type": "markdown",
   "id": "563b6666",
   "metadata": {},
   "source": [
    "# Clean Code Examples:"
   ]
  },
  {
   "cell_type": "markdown",
   "id": "dea5d10c",
   "metadata": {},
   "source": [
    "1-Factorial"
   ]
  },
  {
   "cell_type": "code",
   "execution_count": null,
   "id": "97a8017a",
   "metadata": {},
   "outputs": [],
   "source": [
    "def calculate_factorial(n):\n",
    "    result = 1\n",
    "    for i in range(1, n + 1):\n",
    "        result *= i\n",
    "    return result\n",
    "\n",
    "def get_user_input():\n",
    "    return int(input(\"Enter a number: \"))\n",
    "\n",
    "def display_result(num, result):\n",
    "    print(f\"The factorial of {num} is: {result}\")\n",
    "\n",
    "def main():\n",
    "    num = get_user_input()\n",
    "    result = calculate_factorial(num)\n",
    "    display_result(num, result)\n",
    "\n",
    "if __name__ == \"__main__\":\n",
    "    main()\n"
   ]
  },
  {
   "cell_type": "markdown",
   "id": "d78d9eec",
   "metadata": {},
   "source": [
    "2-Sum of squares"
   ]
  },
  {
   "cell_type": "code",
   "execution_count": null,
   "id": "770a2d23",
   "metadata": {},
   "outputs": [],
   "source": [
    "def is_even(number):\n",
    "    return number % 2 == 0\n",
    "\n",
    "def square(number):\n",
    "    return number ** 2\n",
    "\n",
    "def sum_of_squares_of_evens(numbers):\n",
    "    return sum(square(num) for num in numbers if is_even(num))\n",
    "\n",
    "if __name__ == \"__main__\":\n",
    "    input_numbers = [1, 2, 3, 4, 5, 6, 7, 8, 9, 10]\n",
    "    result = sum_of_squares_of_evens(input_numbers)\n",
    "    print(f\"The sum of squares of even numbers is: {result}\")\n"
   ]
  },
  {
   "cell_type": "markdown",
   "id": "bd51d2d3",
   "metadata": {},
   "source": [
    "3-Avarge of positive numbers"
   ]
  },
  {
   "cell_type": "code",
   "execution_count": null,
   "id": "21cca085",
   "metadata": {},
   "outputs": [],
   "source": [
    "def is_positive(number):\n",
    "    return number > 0\n",
    "\n",
    "def average_of_positives(numbers):\n",
    "    positive_numbers = [num for num in numbers if is_positive(num)]\n",
    "    count = len(positive_numbers)\n",
    "    if count == 0:\n",
    "        return 0\n",
    "    return sum(positive_numbers) / count\n",
    "\n",
    "if __name__ == \"__main__\":\n",
    "    input_numbers = [3, -1, 7, 2, -5, 8, 0, -2, 4]\n",
    "    result = average_of_positives(input_numbers)\n",
    "    print(f\"The average of positive numbers is: {result}\")\n"
   ]
  }
 ],
 "metadata": {
  "kernelspec": {
   "display_name": "Python 3 (ipykernel)",
   "language": "python",
   "name": "python3"
  },
  "language_info": {
   "codemirror_mode": {
    "name": "ipython",
    "version": 3
   },
   "file_extension": ".py",
   "mimetype": "text/x-python",
   "name": "python",
   "nbconvert_exporter": "python",
   "pygments_lexer": "ipython3",
   "version": "3.9.12"
  }
 },
 "nbformat": 4,
 "nbformat_minor": 5
}
