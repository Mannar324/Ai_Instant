{
 "cells": [
  {
   "cell_type": "markdown",
   "id": "07df3a41",
   "metadata": {},
   "source": [
    "# Regular Expression Task"
   ]
  },
  {
   "cell_type": "code",
   "execution_count": 1,
   "id": "3d817282",
   "metadata": {},
   "outputs": [],
   "source": [
    "import re "
   ]
  },
  {
   "cell_type": "code",
   "execution_count": 59,
   "id": "08849e16",
   "metadata": {},
   "outputs": [],
   "source": [
    "names=[]\n",
    "phones=[]\n",
    "emails=[]"
   ]
  },
  {
   "cell_type": "code",
   "execution_count": null,
   "id": "27f7a208",
   "metadata": {},
   "outputs": [],
   "source": [
    "'''EthanReynolds,jfinke@optonline.net,15852826781,\n",
    "OliviaMitchell-wiseb@me.com-15853042348,\n",
    "LiamCarter,keiji@icloud.com,15853042451,\n",
    "AvaDavis,amcuri@sbcglobal.net,15852826534,\n",
    "NoahThompson,clkao@att.net,16102347852,\n",
    "SophiaWhite-phish@mac.edu-16102347304,\n",
    "LucasWalker,kingjoshi@optonline.net,16102347944,\n",
    "MiaAnderson,dialworld@msn.com,15854380021,\n",
    "JacksonHarris,pgottsch@msn.com,18143008935,\n",
    "EmmaTurner-ducasse@msn.com-16102448940'''"
   ]
  },
  {
   "cell_type": "code",
   "execution_count": 60,
   "id": "50ad7bde",
   "metadata": {},
   "outputs": [],
   "source": [
    "def create_pattern(pattern,containers):\n",
    "    with open(file_path,'r') as file:\n",
    "        for line in file:\n",
    "            result=pattern.search(line)\n",
    "            #print(result)\n",
    "            s=result.span()[0]\n",
    "            e=result.span()[1]\n",
    "            containers.append(line[s:e])\n",
    "    #containers=[container[:-1]for container in containers]"
   ]
  },
  {
   "cell_type": "code",
   "execution_count": 61,
   "id": "0bca533b",
   "metadata": {},
   "outputs": [],
   "source": [
    "file_path='D:\\information.txt'"
   ]
  },
  {
   "cell_type": "code",
   "execution_count": 62,
   "id": "14ed7b49",
   "metadata": {},
   "outputs": [],
   "source": [
    "#extract names\n",
    "pattern = re.compile('[a-zA-Z]+[,-]')\n",
    "create_pattern(pattern,names)"
   ]
  },
  {
   "cell_type": "code",
   "execution_count": 63,
   "id": "8897bcec",
   "metadata": {},
   "outputs": [
    {
     "data": {
      "text/plain": [
       "['NoahThompson',\n",
       " 'LiamCarter',\n",
       " 'SophiaWhite',\n",
       " 'AvaDavis',\n",
       " 'EthanReynolds',\n",
       " 'EmmaTurner',\n",
       " 'JacksonHarris',\n",
       " 'OliviaMitchell',\n",
       " 'MiaAnderson',\n",
       " 'LucasWalker']"
      ]
     },
     "execution_count": 63,
     "metadata": {},
     "output_type": "execute_result"
    }
   ],
   "source": [
    "# with open(file_path, 'r') as file:\n",
    "#     for line in file:\n",
    "#         result = pattern.search(line)\n",
    "#         if result:\n",
    "#             names.append(result.group())\n",
    "\n",
    "# Printing the names\n",
    "names=set(names)\n",
    "names=list(names)\n",
    "names=[name[:-1] for name in names]\n",
    "names    "
   ]
  },
  {
   "cell_type": "code",
   "execution_count": 64,
   "id": "69906b00",
   "metadata": {},
   "outputs": [],
   "source": [
    "#extract emails\n",
    "pattern = re.compile('[a-zA-Z0-9]+@[a-zA-Z]+\\.[a-zA-Z]{3,}[,-]')\n",
    "\n",
    "         "
   ]
  },
  {
   "cell_type": "code",
   "execution_count": 65,
   "id": "11a076cc",
   "metadata": {},
   "outputs": [
    {
     "data": {
      "text/plain": [
       "['jfinke@optonline.net',\n",
       " 'wiseb@me.com',\n",
       " 'keiji@icloud.com',\n",
       " 'amcuri@sbcglobal.net',\n",
       " 'clkao@att.net',\n",
       " 'phish@mac.edu',\n",
       " 'kingjoshi@optonline.net',\n",
       " 'dialworld@msn.com',\n",
       " 'pgottsch@msn.com',\n",
       " 'ducasse@msn.com']"
      ]
     },
     "execution_count": 65,
     "metadata": {},
     "output_type": "execute_result"
    }
   ],
   "source": [
    "# with open(file_path,'r') as file:\n",
    "#     for line in file:\n",
    "#         result=pattern.search(line)\n",
    "#         print(result)\n",
    "#         s=result.span()[0]\n",
    "#         e=result.span()[1]\n",
    "#         emails.append(line[s:e])\n",
    "create_pattern(pattern,emails)\n",
    "emails=[email[:-1]for email in emails]\n",
    "emails"
   ]
  },
  {
   "cell_type": "code",
   "execution_count": 66,
   "id": "e5d8479f",
   "metadata": {},
   "outputs": [],
   "source": [
    "#extract phone numbers\n",
    "pattern=re.compile('(15|16|18)[0-9]{9,}')"
   ]
  },
  {
   "cell_type": "code",
   "execution_count": 67,
   "id": "fe595d05",
   "metadata": {},
   "outputs": [
    {
     "data": {
      "text/plain": [
       "['15852826781',\n",
       " '15853042348',\n",
       " '15853042451',\n",
       " '15852826534',\n",
       " '16102347852',\n",
       " '16102347304',\n",
       " '16102347944',\n",
       " '15854380021',\n",
       " '18143008935',\n",
       " '16102448940']"
      ]
     },
     "execution_count": 67,
     "metadata": {},
     "output_type": "execute_result"
    }
   ],
   "source": [
    "# with open(file_path,'r') as file:\n",
    "#      for line in file:\n",
    "#         result=pattern.finditer(line)\n",
    "#         for res in result:\n",
    "#             start=res.span()[0]\n",
    "#             end=res.span()[1]\n",
    "#             phones.append(line[start:end])\n",
    "create_pattern(pattern,phones)\n",
    "phones            "
   ]
  },
  {
   "cell_type": "code",
   "execution_count": 68,
   "id": "afe8db85",
   "metadata": {},
   "outputs": [
    {
     "name": "stdout",
     "output_type": "stream",
     "text": [
      "   Name    |         Email      |       Phone   \n",
      "NoahThompson     jfinke@optonline.net     15852826781\n",
      "LiamCarter     wiseb@me.com     15853042348\n",
      "SophiaWhite     keiji@icloud.com     15853042451\n",
      "AvaDavis     amcuri@sbcglobal.net     15852826534\n",
      "EthanReynolds     clkao@att.net     16102347852\n",
      "EmmaTurner     phish@mac.edu     16102347304\n",
      "JacksonHarris     kingjoshi@optonline.net     16102347944\n",
      "OliviaMitchell     dialworld@msn.com     15854380021\n",
      "MiaAnderson     pgottsch@msn.com     18143008935\n",
      "LucasWalker     ducasse@msn.com     16102448940\n"
     ]
    }
   ],
   "source": [
    "print(\"   Name    |         Email      |       Phone   \")\n",
    "for i in range(len(names)):\n",
    "    print(names[i],\"   \",emails[i],\"   \",phones[i])"
   ]
  },
  {
   "cell_type": "code",
   "execution_count": null,
   "id": "13a8bab7",
   "metadata": {},
   "outputs": [],
   "source": []
  }
 ],
 "metadata": {
  "kernelspec": {
   "display_name": "Python 3 (ipykernel)",
   "language": "python",
   "name": "python3"
  },
  "language_info": {
   "codemirror_mode": {
    "name": "ipython",
    "version": 3
   },
   "file_extension": ".py",
   "mimetype": "text/x-python",
   "name": "python",
   "nbconvert_exporter": "python",
   "pygments_lexer": "ipython3",
   "version": "3.9.12"
  }
 },
 "nbformat": 4,
 "nbformat_minor": 5
}
